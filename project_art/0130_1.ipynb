{
 "cells": [
  {
   "cell_type": "code",
   "execution_count": 2,
   "metadata": {},
   "outputs": [
    {
     "ename": "KeyError",
     "evalue": "'date_auction'",
     "output_type": "error",
     "traceback": [
      "\u001b[1;31m---------------------------------------------------------------------------\u001b[0m",
      "\u001b[1;31mKeyError\u001b[0m                                  Traceback (most recent call last)",
      "File \u001b[1;32mc:\\src\\anaconda_1\\envs\\myenv\\lib\\site-packages\\pandas\\core\\indexes\\base.py:3653\u001b[0m, in \u001b[0;36mIndex.get_loc\u001b[1;34m(self, key)\u001b[0m\n\u001b[0;32m   3652\u001b[0m \u001b[38;5;28;01mtry\u001b[39;00m:\n\u001b[1;32m-> 3653\u001b[0m     \u001b[38;5;28;01mreturn\u001b[39;00m \u001b[38;5;28;43mself\u001b[39;49m\u001b[38;5;241;43m.\u001b[39;49m\u001b[43m_engine\u001b[49m\u001b[38;5;241;43m.\u001b[39;49m\u001b[43mget_loc\u001b[49m\u001b[43m(\u001b[49m\u001b[43mcasted_key\u001b[49m\u001b[43m)\u001b[49m\n\u001b[0;32m   3654\u001b[0m \u001b[38;5;28;01mexcept\u001b[39;00m \u001b[38;5;167;01mKeyError\u001b[39;00m \u001b[38;5;28;01mas\u001b[39;00m err:\n",
      "File \u001b[1;32mc:\\src\\anaconda_1\\envs\\myenv\\lib\\site-packages\\pandas\\_libs\\index.pyx:147\u001b[0m, in \u001b[0;36mpandas._libs.index.IndexEngine.get_loc\u001b[1;34m()\u001b[0m\n",
      "File \u001b[1;32mc:\\src\\anaconda_1\\envs\\myenv\\lib\\site-packages\\pandas\\_libs\\index.pyx:176\u001b[0m, in \u001b[0;36mpandas._libs.index.IndexEngine.get_loc\u001b[1;34m()\u001b[0m\n",
      "File \u001b[1;32mpandas\\_libs\\hashtable_class_helper.pxi:7080\u001b[0m, in \u001b[0;36mpandas._libs.hashtable.PyObjectHashTable.get_item\u001b[1;34m()\u001b[0m\n",
      "File \u001b[1;32mpandas\\_libs\\hashtable_class_helper.pxi:7088\u001b[0m, in \u001b[0;36mpandas._libs.hashtable.PyObjectHashTable.get_item\u001b[1;34m()\u001b[0m\n",
      "\u001b[1;31mKeyError\u001b[0m: 'date_auction'",
      "\nThe above exception was the direct cause of the following exception:\n",
      "\u001b[1;31mKeyError\u001b[0m                                  Traceback (most recent call last)",
      "Cell \u001b[1;32mIn[2], line 9\u001b[0m\n\u001b[0;32m      6\u001b[0m \u001b[38;5;66;03m# 데이터 불러오기\u001b[39;00m\n\u001b[0;32m      7\u001b[0m df \u001b[38;5;241m=\u001b[39m pd\u001b[38;5;241m.\u001b[39mread_excel(\u001b[38;5;124m'\u001b[39m\u001b[38;5;124m박서보.xlsx\u001b[39m\u001b[38;5;124m'\u001b[39m)\n\u001b[1;32m----> 9\u001b[0m df[\u001b[38;5;124m'\u001b[39m\u001b[38;5;124mdate_auction\u001b[39m\u001b[38;5;124m'\u001b[39m] \u001b[38;5;241m=\u001b[39m pd\u001b[38;5;241m.\u001b[39mto_datetime(\u001b[43mdf\u001b[49m\u001b[43m[\u001b[49m\u001b[38;5;124;43m'\u001b[39;49m\u001b[38;5;124;43mdate_auction\u001b[39;49m\u001b[38;5;124;43m'\u001b[39;49m\u001b[43m]\u001b[49m, \u001b[38;5;28mformat\u001b[39m\u001b[38;5;241m=\u001b[39m\u001b[38;5;124m'\u001b[39m\u001b[38;5;124m%\u001b[39m\u001b[38;5;124mY-\u001b[39m\u001b[38;5;124m%\u001b[39m\u001b[38;5;124mm-\u001b[39m\u001b[38;5;132;01m%d\u001b[39;00m\u001b[38;5;124m'\u001b[39m)\n",
      "File \u001b[1;32mc:\\src\\anaconda_1\\envs\\myenv\\lib\\site-packages\\pandas\\core\\frame.py:3761\u001b[0m, in \u001b[0;36mDataFrame.__getitem__\u001b[1;34m(self, key)\u001b[0m\n\u001b[0;32m   3759\u001b[0m \u001b[38;5;28;01mif\u001b[39;00m \u001b[38;5;28mself\u001b[39m\u001b[38;5;241m.\u001b[39mcolumns\u001b[38;5;241m.\u001b[39mnlevels \u001b[38;5;241m>\u001b[39m \u001b[38;5;241m1\u001b[39m:\n\u001b[0;32m   3760\u001b[0m     \u001b[38;5;28;01mreturn\u001b[39;00m \u001b[38;5;28mself\u001b[39m\u001b[38;5;241m.\u001b[39m_getitem_multilevel(key)\n\u001b[1;32m-> 3761\u001b[0m indexer \u001b[38;5;241m=\u001b[39m \u001b[38;5;28;43mself\u001b[39;49m\u001b[38;5;241;43m.\u001b[39;49m\u001b[43mcolumns\u001b[49m\u001b[38;5;241;43m.\u001b[39;49m\u001b[43mget_loc\u001b[49m\u001b[43m(\u001b[49m\u001b[43mkey\u001b[49m\u001b[43m)\u001b[49m\n\u001b[0;32m   3762\u001b[0m \u001b[38;5;28;01mif\u001b[39;00m is_integer(indexer):\n\u001b[0;32m   3763\u001b[0m     indexer \u001b[38;5;241m=\u001b[39m [indexer]\n",
      "File \u001b[1;32mc:\\src\\anaconda_1\\envs\\myenv\\lib\\site-packages\\pandas\\core\\indexes\\base.py:3655\u001b[0m, in \u001b[0;36mIndex.get_loc\u001b[1;34m(self, key)\u001b[0m\n\u001b[0;32m   3653\u001b[0m     \u001b[38;5;28;01mreturn\u001b[39;00m \u001b[38;5;28mself\u001b[39m\u001b[38;5;241m.\u001b[39m_engine\u001b[38;5;241m.\u001b[39mget_loc(casted_key)\n\u001b[0;32m   3654\u001b[0m \u001b[38;5;28;01mexcept\u001b[39;00m \u001b[38;5;167;01mKeyError\u001b[39;00m \u001b[38;5;28;01mas\u001b[39;00m err:\n\u001b[1;32m-> 3655\u001b[0m     \u001b[38;5;28;01mraise\u001b[39;00m \u001b[38;5;167;01mKeyError\u001b[39;00m(key) \u001b[38;5;28;01mfrom\u001b[39;00m \u001b[38;5;21;01merr\u001b[39;00m\n\u001b[0;32m   3656\u001b[0m \u001b[38;5;28;01mexcept\u001b[39;00m \u001b[38;5;167;01mTypeError\u001b[39;00m:\n\u001b[0;32m   3657\u001b[0m     \u001b[38;5;66;03m# If we have a listlike key, _check_indexing_error will raise\u001b[39;00m\n\u001b[0;32m   3658\u001b[0m     \u001b[38;5;66;03m#  InvalidIndexError. Otherwise we fall through and re-raise\u001b[39;00m\n\u001b[0;32m   3659\u001b[0m     \u001b[38;5;66;03m#  the TypeError.\u001b[39;00m\n\u001b[0;32m   3660\u001b[0m     \u001b[38;5;28mself\u001b[39m\u001b[38;5;241m.\u001b[39m_check_indexing_error(key)\n",
      "\u001b[1;31mKeyError\u001b[0m: 'date_auction'"
     ]
    }
   ],
   "source": [
    "# 박서보 죽음 전 후 거래량\n",
    "\n",
    "import pandas as pd\n",
    "import matplotlib.pyplot as plt\n",
    "\n",
    "# 데이터 불러오기\n",
    "df = pd.read_excel('박서보.xlsx')\n",
    "\n",
    "df['date_auction'] = pd.to_datetime(df['date_auction'], format='%Y-%m-%d')"
   ]
  },
  {
   "cell_type": "code",
   "execution_count": 3,
   "metadata": {},
   "outputs": [
    {
     "name": "stdout",
     "output_type": "stream",
     "text": [
      "0   2019-01-14\n",
      "1   2019-01-23\n",
      "2   2019-01-23\n",
      "3   2019-02-20\n",
      "4   2019-03-12\n",
      "Name: date_auction, dtype: datetime64[ns]\n"
     ]
    }
   ],
   "source": [
    "print(df['date_auction'].head())"
   ]
  },
  {
   "cell_type": "code",
   "execution_count": 4,
   "metadata": {},
   "outputs": [
    {
     "name": "stdout",
     "output_type": "stream",
     "text": [
      "사망 전 거래량: 448건\n",
      "사망 후 거래량: 194건\n"
     ]
    }
   ],
   "source": [
    "# 사망일 기준 설정\n",
    "death_date = pd.Timestamp('2023-01-01')\n",
    "\n",
    "# 사망 전후 데이터 나누기\n",
    "df_before = df[df['date_auction'] < death_date]  # 사망 전\n",
    "df_after = df[df['date_auction'] >= death_date]  # 사망 후\n",
    "\n",
    "# 사망 전후 데이터 개수 확인\n",
    "print(f\"사망 전 거래량: {len(df_before)}건\")\n",
    "print(f\"사망 후 거래량: {len(df_after)}건\")"
   ]
  },
  {
   "cell_type": "code",
   "execution_count": 7,
   "metadata": {},
   "outputs": [
    {
     "name": "stdout",
     "output_type": "stream",
     "text": [
      "float64\n",
      "[7.500000e+05 2.100000e+08 1.050000e+07 8.500000e+07 8.800000e+06\n",
      " 4.000000e+07 1.700000e+08 1.919970e+07 7.384500e+07 7.000000e+07\n",
      " 1.820000e+08 4.400000e+06 1.200000e+07 1.400000e+07 5.800000e+08\n",
      " 5.000000e+07 1.450000e+08 2.000000e+08 1.034078e+08 9.723420e+07\n",
      " 5.000000e+05 1.600000e+07 1.000000e+08 3.900000e+06 6.000000e+07\n",
      " 9.800000e+08 5.000000e+06 4.400000e+07 1.600000e+08 2.100000e+07\n",
      " 8.000000e+06 4.668900e+06 8.500000e+06 3.200000e+07 7.675500e+06\n",
      " 6.447420e+06 1.535100e+08 4.800000e+06 3.500000e+08 3.600000e+07\n",
      " 9.000000e+07 1.500000e+08 1.350000e+08 3.800000e+07 9.000000e+08\n",
      " 2.600000e+07 3.200000e+05 5.500000e+05 2.400000e+07 5.600000e+06\n",
      " 2.200000e+08 2.000000e+07 6.300000e+06 3.800000e+08 3.000000e+07\n",
      " 4.200000e+07 8.000000e+07 7.614110e+06 2.797020e+08 1.180964e+07\n",
      " 5.500000e+07 3.900000e+07 1.900000e+06 6.524100e+06 4.600000e+06\n",
      " 1.300000e+08 7.200000e+07 1.550000e+08 1.700000e+07 9.500000e+06\n",
      " 1.100000e+08 3.700000e+07 1.800000e+08 4.600000e+07 1.120000e+06\n",
      " 3.500000e+07 1.900000e+07 2.200000e+07 6.600000e+07 2.300000e+08\n",
      " 1.020000e+06 3.050000e+08 1.829675e+07 1.347000e+07 2.020500e+07\n",
      " 1.550000e+07 7.100000e+06 1.850000e+08 4.000000e+08 6.400000e+07\n",
      " 1.050000e+08 2.500000e+07 2.050000e+07 1.800000e+07 9.800000e+07\n",
      " 1.020000e+08 7.400000e+06 6.800000e+06 2.400000e+06 4.300000e+08\n",
      " 5.800000e+07 4.900000e+07 7.900000e+07 4.200000e+06 6.200000e+06\n",
      " 4.000000e+06 2.100000e+06 8.000000e+05 8.500000e+05 9.500000e+08\n",
      " 8.400000e+07 3.000000e+06 4.400000e+08 2.800000e+06 5.000000e+08\n",
      " 7.100000e+07 6.200000e+07 1.800000e+06 1.500000e+07 7.000000e+06\n",
      " 7.500000e+06 1.500000e+06 8.900000e+07 9.600000e+07 7.600000e+07\n",
      " 4.200000e+08 3.400000e+07 3.300000e+07 5.300000e+08 2.200000e+06\n",
      " 7.600000e+06 1.600000e+06 5.100000e+07 2.900000e+07 6.600000e+06\n",
      " 1.750000e+07 1.250000e+07 5.200000e+06 2.500000e+06 6.500000e+06\n",
      " 2.000000e+06 1.700000e+06 4.500000e+06 3.700000e+08 2.800000e+07\n",
      " 4.600000e+08 3.200000e+06 6.000000e+05 1.450000e+07 6.700000e+07\n",
      " 5.300000e+06 7.500000e+07 2.550000e+07 6.100000e+07 5.500000e+06\n",
      " 1.100000e+07 1.000000e+07 5.300000e+07 5.400000e+08 2.800000e+08\n",
      " 4.800000e+07 6.000000e+06 6.800000e+08 1.200000e+09 4.900000e+08\n",
      " 1.010000e+07 1.300000e+07 2.300000e+06 1.060000e+07 3.500000e+06\n",
      " 3.800000e+06 5.400000e+07 2.700000e+06 1.250000e+08 6.000000e+08\n",
      " 8.100000e+06 9.200000e+06 7.500000e+08 3.600000e+08 6.300000e+08\n",
      " 5.600000e+07 1.150000e+08 2.600000e+06 3.600000e+06 8.800000e+07\n",
      " 2.700000e+07 6.200000e+08 2.900000e+08 6.400000e+08 4.500000e+08\n",
      " 2.450000e+07 3.400000e+06 4.900000e+06 2.150000e+07 1.031000e+08\n",
      " 3.000000e+08 1.650000e+07 2.700000e+08 6.500000e+08 1.200000e+08\n",
      " 9.600000e+06 5.900000e+06 5.200000e+08 3.200000e+08 7.200000e+06\n",
      " 1.160000e+07 4.100000e+06 1.400000e+08 9.900000e+06 8.400000e+06\n",
      " 8.600000e+06 3.300000e+08 2.600000e+08 4.100000e+07 4.300000e+06\n",
      " 9.300000e+06 2.900000e+06 2.350000e+07 1.350000e+07 6.100000e+06\n",
      " 1.060000e+09 5.200000e+07 7.000000e+05 1.900000e+08 4.800000e+05\n",
      " 1.650000e+08 7.750000e+08 9.400000e+07 3.700000e+06 4.500000e+05\n",
      " 4.700000e+06 1.200000e+06 1.000000e+09 9.000000e+06 4.600000e+05\n",
      " 4.500000e+07 5.900000e+07 1.300000e+06 4.300000e+07 1.100000e+06]\n"
     ]
    }
   ],
   "source": [
    "# 데이터 타입 확인\n",
    "print(df['price'].dtype)\n",
    "\n",
    "# 'price' 칼럼의 고유값 확인 (문제 있는 값 찾기)\n",
    "print(df['price'].unique())"
   ]
  },
  {
   "cell_type": "code",
   "execution_count": 8,
   "metadata": {},
   "outputs": [
    {
     "name": "stdout",
     "output_type": "stream",
     "text": [
      "0       750000\n",
      "1    210000000\n",
      "2     10500000\n",
      "3     85000000\n",
      "4      8800000\n",
      "Name: price, dtype: int32\n"
     ]
    }
   ],
   "source": [
    "# 'price' 칼럼을 정수형(int)로 변환\n",
    "df['price'] = df['price'].astype(int)\n",
    "\n",
    "# 변환 확인\n",
    "print(df['price'].head())"
   ]
  },
  {
   "cell_type": "code",
   "execution_count": 9,
   "metadata": {},
   "outputs": [
    {
     "name": "stdout",
     "output_type": "stream",
     "text": [
      "1200000000\n",
      "320000\n"
     ]
    }
   ],
   "source": [
    "print(df['price'].max())  # 최대값\n",
    "print(df['price'].min())  # 최소값"
   ]
  },
  {
   "cell_type": "code",
   "execution_count": 12,
   "metadata": {},
   "outputs": [
    {
     "name": "stdout",
     "output_type": "stream",
     "text": [
      "박서보 작가의 사망 전 거래량: 420\n",
      "박서보 작가의 사망 후 거래량: 221\n"
     ]
    }
   ],
   "source": [
    "# 'price' 칼럼을 정수형(int)으로 변환\n",
    "df['price'] = df['price'].astype(int)\n",
    "\n",
    "# 사망 전후 데이터를 나누기 위한 기준 날짜\n",
    "death_date = \"2022-10-14\"  # 예시로 사망 날짜를 설정 (수정 필요)\n",
    "\n",
    "# 날짜 데이터를 datetime 형식으로 변환\n",
    "df['date_auction'] = pd.to_datetime(df['date_auction'])\n",
    "\n",
    "# 사망 전 데이터\n",
    "before_death = df[df['date_auction'] < death_date]\n",
    "\n",
    "# 사망 후 데이터\n",
    "after_death = df[df['date_auction'] >= death_date]\n",
    "\n",
    "# 거래량 비교\n",
    "before_count = before_death.shape[0]\n",
    "after_count = after_death.shape[0]\n",
    "\n",
    "print(f\"박서보 작가의 사망 전 거래량: {before_count}\")\n",
    "print(f\"박서보 작가의 사망 후 거래량: {after_count}\")"
   ]
  },
  {
   "cell_type": "code",
   "execution_count": 14,
   "metadata": {},
   "outputs": [
    {
     "name": "stdout",
     "output_type": "stream",
     "text": [
      "사망 전 호당 평균 가격: nan\n",
      "사망 후 호당 평균 가격: nan\n"
     ]
    },
    {
     "name": "stderr",
     "output_type": "stream",
     "text": [
      "C:\\Users\\91020\\AppData\\Local\\Temp\\ipykernel_50524\\1104371302.py:44: UserWarning: Glyph 49324 (\\N{HANGUL SYLLABLE SA}) missing from current font.\n",
      "  plt.tight_layout()\n",
      "C:\\Users\\91020\\AppData\\Local\\Temp\\ipykernel_50524\\1104371302.py:44: UserWarning: Glyph 47581 (\\N{HANGUL SYLLABLE MANG}) missing from current font.\n",
      "  plt.tight_layout()\n",
      "C:\\Users\\91020\\AppData\\Local\\Temp\\ipykernel_50524\\1104371302.py:44: UserWarning: Glyph 51204 (\\N{HANGUL SYLLABLE JEON}) missing from current font.\n",
      "  plt.tight_layout()\n",
      "C:\\Users\\91020\\AppData\\Local\\Temp\\ipykernel_50524\\1104371302.py:44: UserWarning: Glyph 54980 (\\N{HANGUL SYLLABLE HU}) missing from current font.\n",
      "  plt.tight_layout()\n",
      "C:\\Users\\91020\\AppData\\Local\\Temp\\ipykernel_50524\\1104371302.py:44: UserWarning: Glyph 54840 (\\N{HANGUL SYLLABLE HO}) missing from current font.\n",
      "  plt.tight_layout()\n",
      "C:\\Users\\91020\\AppData\\Local\\Temp\\ipykernel_50524\\1104371302.py:44: UserWarning: Glyph 45817 (\\N{HANGUL SYLLABLE DANG}) missing from current font.\n",
      "  plt.tight_layout()\n",
      "C:\\Users\\91020\\AppData\\Local\\Temp\\ipykernel_50524\\1104371302.py:44: UserWarning: Glyph 54217 (\\N{HANGUL SYLLABLE PYEONG}) missing from current font.\n",
      "  plt.tight_layout()\n",
      "C:\\Users\\91020\\AppData\\Local\\Temp\\ipykernel_50524\\1104371302.py:44: UserWarning: Glyph 44512 (\\N{HANGUL SYLLABLE GYUN}) missing from current font.\n",
      "  plt.tight_layout()\n",
      "C:\\Users\\91020\\AppData\\Local\\Temp\\ipykernel_50524\\1104371302.py:44: UserWarning: Glyph 44032 (\\N{HANGUL SYLLABLE GA}) missing from current font.\n",
      "  plt.tight_layout()\n",
      "C:\\Users\\91020\\AppData\\Local\\Temp\\ipykernel_50524\\1104371302.py:44: UserWarning: Glyph 44201 (\\N{HANGUL SYLLABLE GYEOG}) missing from current font.\n",
      "  plt.tight_layout()\n",
      "C:\\Users\\91020\\AppData\\Local\\Temp\\ipykernel_50524\\1104371302.py:44: UserWarning: Glyph 50896 (\\N{HANGUL SYLLABLE WEON}) missing from current font.\n",
      "  plt.tight_layout()\n",
      "C:\\Users\\91020\\AppData\\Local\\Temp\\ipykernel_50524\\1104371302.py:44: UserWarning: Glyph 48149 (\\N{HANGUL SYLLABLE BAG}) missing from current font.\n",
      "  plt.tight_layout()\n",
      "C:\\Users\\91020\\AppData\\Local\\Temp\\ipykernel_50524\\1104371302.py:44: UserWarning: Glyph 49436 (\\N{HANGUL SYLLABLE SEO}) missing from current font.\n",
      "  plt.tight_layout()\n",
      "C:\\Users\\91020\\AppData\\Local\\Temp\\ipykernel_50524\\1104371302.py:44: UserWarning: Glyph 48372 (\\N{HANGUL SYLLABLE BO}) missing from current font.\n",
      "  plt.tight_layout()\n",
      "C:\\Users\\91020\\AppData\\Local\\Temp\\ipykernel_50524\\1104371302.py:44: UserWarning: Glyph 51089 (\\N{HANGUL SYLLABLE JAG}) missing from current font.\n",
      "  plt.tight_layout()\n",
      "C:\\Users\\91020\\AppData\\Local\\Temp\\ipykernel_50524\\1104371302.py:44: UserWarning: Glyph 48708 (\\N{HANGUL SYLLABLE BI}) missing from current font.\n",
      "  plt.tight_layout()\n",
      "C:\\Users\\91020\\AppData\\Local\\Temp\\ipykernel_50524\\1104371302.py:44: UserWarning: Glyph 44368 (\\N{HANGUL SYLLABLE GYO}) missing from current font.\n",
      "  plt.tight_layout()\n",
      "posx and posy should be finite values\n",
      "posx and posy should be finite values\n",
      "c:\\src\\anaconda_1\\envs\\myenv\\lib\\site-packages\\IPython\\core\\pylabtools.py:152: UserWarning: Glyph 54840 (\\N{HANGUL SYLLABLE HO}) missing from current font.\n",
      "  fig.canvas.print_figure(bytes_io, **kw)\n",
      "c:\\src\\anaconda_1\\envs\\myenv\\lib\\site-packages\\IPython\\core\\pylabtools.py:152: UserWarning: Glyph 45817 (\\N{HANGUL SYLLABLE DANG}) missing from current font.\n",
      "  fig.canvas.print_figure(bytes_io, **kw)\n",
      "c:\\src\\anaconda_1\\envs\\myenv\\lib\\site-packages\\IPython\\core\\pylabtools.py:152: UserWarning: Glyph 54217 (\\N{HANGUL SYLLABLE PYEONG}) missing from current font.\n",
      "  fig.canvas.print_figure(bytes_io, **kw)\n",
      "c:\\src\\anaconda_1\\envs\\myenv\\lib\\site-packages\\IPython\\core\\pylabtools.py:152: UserWarning: Glyph 44512 (\\N{HANGUL SYLLABLE GYUN}) missing from current font.\n",
      "  fig.canvas.print_figure(bytes_io, **kw)\n",
      "c:\\src\\anaconda_1\\envs\\myenv\\lib\\site-packages\\IPython\\core\\pylabtools.py:152: UserWarning: Glyph 44032 (\\N{HANGUL SYLLABLE GA}) missing from current font.\n",
      "  fig.canvas.print_figure(bytes_io, **kw)\n",
      "c:\\src\\anaconda_1\\envs\\myenv\\lib\\site-packages\\IPython\\core\\pylabtools.py:152: UserWarning: Glyph 44201 (\\N{HANGUL SYLLABLE GYEOG}) missing from current font.\n",
      "  fig.canvas.print_figure(bytes_io, **kw)\n",
      "c:\\src\\anaconda_1\\envs\\myenv\\lib\\site-packages\\IPython\\core\\pylabtools.py:152: UserWarning: Glyph 50896 (\\N{HANGUL SYLLABLE WEON}) missing from current font.\n",
      "  fig.canvas.print_figure(bytes_io, **kw)\n",
      "c:\\src\\anaconda_1\\envs\\myenv\\lib\\site-packages\\IPython\\core\\pylabtools.py:152: UserWarning: Glyph 48149 (\\N{HANGUL SYLLABLE BAG}) missing from current font.\n",
      "  fig.canvas.print_figure(bytes_io, **kw)\n",
      "c:\\src\\anaconda_1\\envs\\myenv\\lib\\site-packages\\IPython\\core\\pylabtools.py:152: UserWarning: Glyph 49436 (\\N{HANGUL SYLLABLE SEO}) missing from current font.\n",
      "  fig.canvas.print_figure(bytes_io, **kw)\n",
      "c:\\src\\anaconda_1\\envs\\myenv\\lib\\site-packages\\IPython\\core\\pylabtools.py:152: UserWarning: Glyph 48372 (\\N{HANGUL SYLLABLE BO}) missing from current font.\n",
      "  fig.canvas.print_figure(bytes_io, **kw)\n",
      "c:\\src\\anaconda_1\\envs\\myenv\\lib\\site-packages\\IPython\\core\\pylabtools.py:152: UserWarning: Glyph 51089 (\\N{HANGUL SYLLABLE JAG}) missing from current font.\n",
      "  fig.canvas.print_figure(bytes_io, **kw)\n",
      "c:\\src\\anaconda_1\\envs\\myenv\\lib\\site-packages\\IPython\\core\\pylabtools.py:152: UserWarning: Glyph 49324 (\\N{HANGUL SYLLABLE SA}) missing from current font.\n",
      "  fig.canvas.print_figure(bytes_io, **kw)\n",
      "c:\\src\\anaconda_1\\envs\\myenv\\lib\\site-packages\\IPython\\core\\pylabtools.py:152: UserWarning: Glyph 47581 (\\N{HANGUL SYLLABLE MANG}) missing from current font.\n",
      "  fig.canvas.print_figure(bytes_io, **kw)\n",
      "c:\\src\\anaconda_1\\envs\\myenv\\lib\\site-packages\\IPython\\core\\pylabtools.py:152: UserWarning: Glyph 51204 (\\N{HANGUL SYLLABLE JEON}) missing from current font.\n",
      "  fig.canvas.print_figure(bytes_io, **kw)\n",
      "c:\\src\\anaconda_1\\envs\\myenv\\lib\\site-packages\\IPython\\core\\pylabtools.py:152: UserWarning: Glyph 54980 (\\N{HANGUL SYLLABLE HU}) missing from current font.\n",
      "  fig.canvas.print_figure(bytes_io, **kw)\n",
      "c:\\src\\anaconda_1\\envs\\myenv\\lib\\site-packages\\IPython\\core\\pylabtools.py:152: UserWarning: Glyph 48708 (\\N{HANGUL SYLLABLE BI}) missing from current font.\n",
      "  fig.canvas.print_figure(bytes_io, **kw)\n",
      "c:\\src\\anaconda_1\\envs\\myenv\\lib\\site-packages\\IPython\\core\\pylabtools.py:152: UserWarning: Glyph 44368 (\\N{HANGUL SYLLABLE GYO}) missing from current font.\n",
      "  fig.canvas.print_figure(bytes_io, **kw)\n",
      "posx and posy should be finite values\n",
      "posx and posy should be finite values\n"
     ]
    },
    {
     "data": {
      "image/png": "[encoded data removed]",
      "text/plain": [
       "<Figure size 800x500 with 1 Axes>"
      ]
     },
     "metadata": {},
     "output_type": "display_data"
    }
   ],
   "source": [
    "# 'price' 칼럼을 정수형(int)으로 변환\n",
    "df['price'] = df['price'].astype(int)\n",
    "\n",
    "# '호당 가격 (1)' 칼럼이 숫자형이 아니면 변환\n",
    "df['호당 가격 (1)'] = df['호당 가격 (1)'].str.replace(',', '')  # 쉼표 제거\n",
    "df['호당 가격 (1)'] = pd.to_numeric(df['호당 가격 (1)'], errors='coerce')  # 숫자로 변환, 변환 안 되는 값은 NaN으로 처리\n",
    "\n",
    "# 사망 전후 데이터를 나누기 위한 기준 날짜\n",
    "death_date = \"2022-10-14\"  # 예시로 사망 날짜를 설정 (수정 필요)\n",
    "\n",
    "# 날짜 데이터를 datetime 형식으로 변환\n",
    "df['date_auction'] = pd.to_datetime(df['date_auction'])\n",
    "\n",
    "# 사망 전 데이터\n",
    "before_death = df[df['date_auction'] < death_date]\n",
    "\n",
    "# 사망 후 데이터\n",
    "after_death = df[df['date_auction'] >= death_date]\n",
    "\n",
    "# 사망 전후 호당 평균 가격 계산\n",
    "before_avg_price = before_death['호당 가격 (1)'].mean()\n",
    "after_avg_price = after_death['호당 가격 (1)'].mean()\n",
    "\n",
    "print(f\"사망 전 호당 평균 가격: {before_avg_price}\")\n",
    "print(f\"사망 후 호당 평균 가격: {after_avg_price}\")\n",
    "\n",
    "# 사망 전후 가격 비교를 위한 그래프 생성\n",
    "labels = ['사망 전', '사망 후']\n",
    "avg_prices = [before_avg_price, after_avg_price]\n",
    "\n",
    "plt.figure(figsize=(8, 5))\n",
    "plt.bar(labels, avg_prices, color=['blue', 'red'])\n",
    "\n",
    "# 그래프에 값 추가\n",
    "for i, v in enumerate(avg_prices):\n",
    "    plt.text(i, v + 50000, f\"{v:,.0f}\", ha='center', va='bottom', fontweight='bold')\n",
    "\n",
    "# 그래프 제목 및 레이블\n",
    "plt.title(\"박서보 작가 사망 전후 호당 평균 가격 비교\", fontsize=14)\n",
    "plt.xlabel(\"사망 전후\", fontsize=12)\n",
    "plt.ylabel(\"호당 평균 가격 (원)\", fontsize=12)\n",
    "\n",
    "# 그래프 표시\n",
    "plt.tight_layout()\n",
    "plt.show()"
   ]
  }
 ],
 "metadata": {
  "kernelspec": {
   "display_name": "myenv",
   "language": "python",
   "name": "python3"
  },
  "language_info": {
   "codemirror_mode": {
    "name": "ipython",
    "version": 3
   },
   "file_extension": ".py",
   "mimetype": "text/x-python",
   "name": "python",
   "nbconvert_exporter": "python",
   "pygments_lexer": "ipython3",
   "version": "3.8.20"
  }
 },
 "nbformat": 4,
 "nbformat_minor": 2
}
